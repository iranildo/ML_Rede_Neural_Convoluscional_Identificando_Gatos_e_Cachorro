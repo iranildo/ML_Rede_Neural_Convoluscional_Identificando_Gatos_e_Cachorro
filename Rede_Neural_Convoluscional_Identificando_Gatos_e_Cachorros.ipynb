{
  "nbformat": 4,
  "nbformat_minor": 0,
  "metadata": {
    "colab": {
      "name": "Rede Neural Convoluscional - Identificando Gatos e Cachorros",
      "provenance": [],
      "collapsed_sections": [],
      "authorship_tag": "ABX9TyOzLDQpkSJg8Z3AqFry8ISU"
    },
    "kernelspec": {
      "name": "python3",
      "display_name": "Python 3"
    },
    "language_info": {
      "name": "python"
    }
  },
  "cells": [
    {
      "cell_type": "markdown",
      "source": [
        "# Rede Neural Convoluscional\n",
        "\n",
        "Identificando Gatos e Cachorros\n",
        "\n"
      ],
      "metadata": {
        "id": "GoSk7iD4SAOD"
      }
    },
    {
      "cell_type": "code",
      "execution_count": 6,
      "metadata": {
        "id": "W8kVnTC0R81H"
      },
      "outputs": [],
      "source": [
        "from keras.models import Sequential\n",
        "from keras.layers import Conv2D\n",
        "from keras.layers import MaxPooling2D\n",
        "from keras.layers import Flatten\n",
        "from keras.layers import Dense\n",
        "\n",
        "classifier = Sequential()\n"
      ]
    },
    {
      "cell_type": "markdown",
      "source": [
        "Criando a camada de ativação"
      ],
      "metadata": {
        "id": "sEOVs27UTGRL"
      }
    },
    {
      "cell_type": "code",
      "source": [
        "classifier.add(Conv2D(32,(3,3),input_shape=(64,64,3), activation='relu'))"
      ],
      "metadata": {
        "id": "UIFA8W8lTUiE"
      },
      "execution_count": 7,
      "outputs": []
    },
    {
      "cell_type": "markdown",
      "source": [
        "Criando uma camada maxpooling"
      ],
      "metadata": {
        "id": "kQMalPvJXpHy"
      }
    },
    {
      "cell_type": "code",
      "source": [
        "classifier.add(MaxPooling2D(pool_size =(2,2)))"
      ],
      "metadata": {
        "id": "OnccS4dCXqs0"
      },
      "execution_count": 8,
      "outputs": []
    },
    {
      "cell_type": "markdown",
      "source": [
        "Adicionando uma camada de Flattening"
      ],
      "metadata": {
        "id": "WgCcnoZlXz9i"
      }
    },
    {
      "cell_type": "code",
      "source": [
        "classifier.add(Flatten())"
      ],
      "metadata": {
        "id": "MAq3x_exXzIb"
      },
      "execution_count": 9,
      "outputs": []
    },
    {
      "cell_type": "markdown",
      "source": [
        "Adicionar as camadas de entrada e saída"
      ],
      "metadata": {
        "id": "GlH_WXJgYLs4"
      }
    },
    {
      "cell_type": "code",
      "source": [
        "classifier.add(Dense(units=128, activation='relu'))"
      ],
      "metadata": {
        "id": "rHZ3XZJHYWNY"
      },
      "execution_count": 10,
      "outputs": []
    },
    {
      "cell_type": "code",
      "source": [
        "classifier.add(Dense(units=1, activation='sigmoid'))"
      ],
      "metadata": {
        "id": "-xc5DhdLYgIb"
      },
      "execution_count": 11,
      "outputs": []
    },
    {
      "cell_type": "markdown",
      "source": [
        "Compilando a rede neural"
      ],
      "metadata": {
        "id": "0f-JbRudYmDY"
      }
    },
    {
      "cell_type": "code",
      "source": [
        "classifier.compile(optimizer='adam', loss='binary_crossentropy',metrics=['accuracy'])"
      ],
      "metadata": {
        "id": "t0Se9UNOYofF"
      },
      "execution_count": 12,
      "outputs": []
    },
    {
      "cell_type": "markdown",
      "source": [
        "Pre-processamento de imagens"
      ],
      "metadata": {
        "id": "zU9rA1hyY-FF"
      }
    },
    {
      "cell_type": "code",
      "source": [
        "from keras.preprocessing.image import ImageDataGenerator\n",
        "\n",
        "train_datagen = ImageDataGenerator(rescale=1.255, shear_range=0.2, zoom_range=0.2, horizontal_flip=True)"
      ],
      "metadata": {
        "id": "KhECe3HMZBHZ"
      },
      "execution_count": 13,
      "outputs": []
    },
    {
      "cell_type": "code",
      "source": [
        "test_datagen = ImageDataGenerator(rescale=1.255)"
      ],
      "metadata": {
        "id": "vLhqtdGwZgtS"
      },
      "execution_count": 14,
      "outputs": []
    },
    {
      "cell_type": "code",
      "source": [
        "training_set = train_datagen.flow_from_directory('training_set', target_size=(64,64), batch_size=32,class_mode='binary')"
      ],
      "metadata": {
        "colab": {
          "base_uri": "https://localhost:8080/"
        },
        "id": "x1un1SuFZrdp",
        "outputId": "e04e01b7-8458-4753-cc59-11fbeded0e98"
      },
      "execution_count": 24,
      "outputs": [
        {
          "output_type": "stream",
          "name": "stdout",
          "text": [
            "Found 30 images belonging to 3 classes.\n"
          ]
        }
      ]
    },
    {
      "cell_type": "code",
      "source": [
        "test_set = test_datagen.flow_from_directory('test_set', target_size=(64,64), batch_size=32,class_mode='binary')"
      ],
      "metadata": {
        "colab": {
          "base_uri": "https://localhost:8080/"
        },
        "id": "FNcRQ3d1bRpw",
        "outputId": "e7d2bbeb-8604-48f1-c424-e4267e2c8ce5"
      },
      "execution_count": 25,
      "outputs": [
        {
          "output_type": "stream",
          "name": "stdout",
          "text": [
            "Found 30 images belonging to 3 classes.\n"
          ]
        }
      ]
    },
    {
      "cell_type": "markdown",
      "source": [
        "Treinando a rede Neural"
      ],
      "metadata": {
        "id": "1pWuG2Bzbg3i"
      }
    },
    {
      "cell_type": "code",
      "source": [
        "classifier.fit_generator(training_set, steps_per_epoch=4, epochs =2, validation_data=test_set, validation_steps=4)"
      ],
      "metadata": {
        "id": "NUeKQqSWbolg"
      },
      "execution_count": null,
      "outputs": []
    }
  ]
}